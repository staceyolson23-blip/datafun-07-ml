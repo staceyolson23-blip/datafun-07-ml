{
 "cells": [
  {
   "cell_type": "markdown",
   "id": "0b7f9a04",
   "metadata": {},
   "source": [
    "# Project 7: Predictive Machine Learning  \n",
    "**Author:** Stacey Olson  \n",
    "**Date:** October 2025  \n",
    "**Repository:** [datafun-07-ml](https://github.com/staceyolson23-blip/datafun-07-ml)\n",
    "\n",
    "---\n",
    "\n",
    "## 📘 Project Description\n",
    "This project introduces **Predictive Machine Learning** using **simple linear regression** to build, visualize, and interpret supervised learning models.\n",
    "\n",
    "Through a series of guided exercises from *Intro to Python for Computer Science and Data Science*, we will:\n",
    "\n",
    "- Build linear regression models using both **SciPy** and **scikit-learn**\n",
    "- Make and compare predictions of average January temperatures in NYC\n",
    "- Visualize data and best-fit lines with **Matplotlib** and **Seaborn**\n",
    "- Reflect on model accuracy and limitations\n",
    "- (Optional) Explore the **California Housing Dataset** for additional practice\n",
    "\n",
    "The project is structured into the following parts:\n",
    "1. **Part 1:** Chart a Straight Line (Celsius ↔ Fahrenheit)\n",
    "2. **Part 2:** Prediction with SciPy Linear Regression\n",
    "3. **Part 3:** Prediction with scikit-learn Linear Regression\n",
    "4. **Part 4:** Insights and Comparison\n",
    "5. **Part 5 (Optional):** Bonus — California Housing Dataset\n",
    "\n",
    "---\n"
   ]
  },
  {
   "cell_type": "code",
   "execution_count": 3,
   "id": "a674e171",
   "metadata": {},
   "outputs": [
    {
     "name": "stdout",
     "output_type": "stream",
     "text": [
      "OK!\n"
     ]
    }
   ],
   "source": [
    "import numpy as np, pandas as pd, matplotlib.pyplot as plt, seaborn as sns\n",
    "import scipy\n",
    "print(\"OK!\")"
   ]
  }
 ],
 "metadata": {
  "kernelspec": {
   "display_name": ".venv (3.13.7)",
   "language": "python",
   "name": "python3"
  },
  "language_info": {
   "codemirror_mode": {
    "name": "ipython",
    "version": 3
   },
   "file_extension": ".py",
   "mimetype": "text/x-python",
   "name": "python",
   "nbconvert_exporter": "python",
   "pygments_lexer": "ipython3",
   "version": "3.13.7"
  }
 },
 "nbformat": 4,
 "nbformat_minor": 5
}
