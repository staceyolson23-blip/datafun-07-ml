{
 "cells": [
  {
   "cell_type": "markdown",
   "id": "0b7f9a04",
   "metadata": {},
   "source": [
    "# Project 7: Predictive Machine Learning  \n",
    "**Author:** Stacey Olson  \n",
    "**Date:** October 2025  \n",
    "**Repository:** [datafun-07-ml](https://github.com/staceyolson23-blip/datafun-07-ml)\n",
    "\n",
    "---\n",
    "\n",
    "## 📘 Project Description\n",
    "This project introduces **Predictive Machine Learning** using **simple linear regression** to build, visualize, and interpret supervised learning models.\n",
    "\n",
    "Through a series of guided exercises from *Intro to Python for Computer Science and Data Science*, we will:\n",
    "\n",
    "- Build linear regression models using both **SciPy** and **scikit-learn**\n",
    "- Make and compare predictions of average January temperatures in NYC\n",
    "- Visualize data and best-fit lines with **Matplotlib** and **Seaborn**\n",
    "- Reflect on model accuracy and limitations\n",
    "- (Optional) Explore the **California Housing Dataset** for additional practice\n",
    "\n",
    "The project is structured into the following parts:\n",
    "1. **Part 1:** Chart a Straight Line (Celsius ↔ Fahrenheit)\n",
    "2. **Part 2:** Prediction with SciPy Linear Regression\n",
    "3. **Part 3:** Prediction with scikit-learn Linear Regression\n",
    "4. **Part 4:** Insights and Comparison\n",
    "5. **Part 5 (Optional):** Bonus — California Housing Dataset\n",
    "\n",
    "---\n"
   ]
  },
  {
   "cell_type": "markdown",
   "id": "5a960b21",
   "metadata": {},
   "source": [
    "# Introduction\n",
    "In this project, we’ll explore how machine learning can help us predict future temperatures based on historical trends.\n",
    "Using simple linear regression, we’ll analyze how the average high temperature in New York City each January has changed over time.\n",
    "Our goal is to build two predictive models — one with SciPy and one with scikit-learn — and use them to forecast the average January temperature in 2024.\n",
    "Along the way, we’ll reflect on what the models reveal (and don’t reveal) about long-term climate patterns."
   ]
  },
  {
   "cell_type": "markdown",
   "id": "72f69c60",
   "metadata": {},
   "source": [
    "# Setup and Imports"
   ]
  },
  {
   "cell_type": "code",
   "execution_count": 113,
   "id": "a674e171",
   "metadata": {},
   "outputs": [],
   "source": [
    "# Standard imports\n",
    "import numpy as np\n",
    "import pandas as pd\n",
    "import matplotlib.pyplot as plt\n",
    "import seaborn as sns\n",
    "\n",
    "# Stats and ML tools\n",
    "from scipy import stats\n",
    "from sklearn.model_selection import train_test_split\n",
    "from sklearn.linear_model import LinearRegression\n",
    "\n",
    "# Display settings\n",
    "sns.set(style=\"whitegrid\", palette=\"muted\")"
   ]
  },
  {
   "cell_type": "markdown",
   "id": "625f1d81",
   "metadata": {},
   "source": [
    "## Part 1 - Chart a Straight Line\n",
    "\n",
    "We demonstrate a known linear relationship using the line equation **y = mx + b**.\n",
    "- **m (slope)** = change in y / change in x  \n",
    "- **b (intercept)** = where the line crosses the y-axis  \n",
    "We’ll plot Celsius vs. Fahrenheit using a **pandas DataFrame** and verify the slope/intercept.\n",
    "\n",
    "Before predicting future temperatures, we’ll start simple: a perfect linear relationship — the conversion between Celsius and Fahrenheit.\n",
    "This helps us visualize the line equation y=mx+b and see how slope (m) and intercept (b) describe how one variable changes with another."
   ]
  },
  {
   "cell_type": "code",
   "execution_count": 114,
   "id": "6ed0fb4a",
   "metadata": {},
   "outputs": [
    {
     "data": {
      "image/png": "[encoded data removed]",
      "text/plain": [
       "<Figure size 600x400 with 1 Axes>"
      ]
     },
     "metadata": {},
     "output_type": "display_data"
    },
    {
     "name": "stdout",
     "output_type": "stream",
     "text": [
      "Slope m = 1.80   Intercept b = 32.00   R^2 = 1.00\n"
     ]
    }
   ],
   "source": [
    "import pandas as pd\n",
    "import numpy as np\n",
    "import matplotlib.pyplot as plt\n",
    "import seaborn as sns\n",
    "from scipy import stats\n",
    "\n",
    "sns.set(style=\"whitegrid\")\n",
    "\n",
    "# Make a DataFrame and plot with pandas\n",
    "cf_df = pd.DataFrame({\n",
    "    \"Celsius\": [0, 10, 20, 30, 40],\n",
    "    \"Fahrenheit\": [32, 50, 68, 86, 104]\n",
    "})\n",
    "\n",
    "ax = cf_df.plot(kind=\"scatter\", x=\"Celsius\", y=\"Fahrenheit\", figsize=(6,4), title=\"Celsius vs Fahrenheit (DataFrame plot)\")\n",
    "plt.show()\n",
    "\n",
    "# Verify slope/intercept (should be ~1.8 and 32)\n",
    "slope, intercept, r, p, std_err = stats.linregress(cf_df[\"Celsius\"], cf_df[\"Fahrenheit\"])\n",
    "print(f\"Slope m = {slope:.2f}   Intercept b = {intercept:.2f}   R^2 = {r**2:.2f}\")"
   ]
  },
  {
   "cell_type": "markdown",
   "id": "1c7b6665",
   "metadata": {},
   "source": [
    "The plot confirms a perfect linear relationship (R² = 1.0), with a slope of 1.8 and intercept 32, matching the known formula F=1.8C+32.\n",
    "This gives us confidence in using linear regression for more complex, real-world data."
   ]
  },
  {
   "cell_type": "markdown",
   "id": "a6856b7f",
   "metadata": {},
   "source": [
    "# Part 2 - Prediction with SciPy Linear Regression\n",
    "\n",
    "Next, we’ll move to real-world data: the average high temperature in NYC each January from 1895–2018.\n",
    "We’ll use this historical data to model trends and forecast the 2024 temperature.\n",
    "\n",
    "First, we’ll load the dataset provided in the textbook.\n",
    "This dataset contains NYC’s average January high temperatures over many years, stored in a CSV file.\n",
    "\n",
    "### Section 1 - Data Acquisition\n",
    "Load NYC January average high temperatures from CSV into a DataFrame."
   ]
  },
  {
   "cell_type": "code",
   "execution_count": 115,
   "id": "b6e3ec01",
   "metadata": {},
   "outputs": [],
   "source": [
    "from pathlib import Path\n",
    "import pandas as pd\n",
    "from scipy import stats\n",
    "import matplotlib.pyplot as plt\n",
    "import seaborn as sns\n",
    "\n",
    "sns.set(style=\"whitegrid\")\n",
    "pd.set_option('display.precision', 2)  # <- as requested\n",
    "\n",
    "# --- Section 1 - Data Acquisition\n",
    "DATA = Path(\"/Users/staceyolson/Repos/datafun-07-ml/notebooks/examples/ch15/ave_hi_nyc_jan_1895-2018.csv\")\n",
    "nyc_df = pd.read_csv(DATA)\n",
    "nyc_df.columns = ['Date', 'Temperature', 'Anomaly']  # Value -> Temperature"
   ]
  },
  {
   "cell_type": "markdown",
   "id": "a468d519",
   "metadata": {},
   "source": [
    "We’ve successfully loaded the dataset into a pandas DataFrame and renamed the columns to make them more descriptive."
   ]
  },
  {
   "cell_type": "markdown",
   "id": "70b666b3",
   "metadata": {},
   "source": [
    "### Section 2 - Data Inspection\n",
    "Let’s preview the data to confirm it loaded correctly and check data types."
   ]
  },
  {
   "cell_type": "code",
   "execution_count": 116,
   "id": "ccb5beae",
   "metadata": {},
   "outputs": [
    {
     "data": {
      "text/html": [
       "<div>\n",
       "<style scoped>\n",
       "    .dataframe tbody tr th:only-of-type {\n",
       "        vertical-align: middle;\n",
       "    }\n",
       "\n",
       "    .dataframe tbody tr th {\n",
       "        vertical-align: top;\n",
       "    }\n",
       "\n",
       "    .dataframe thead th {\n",
       "        text-align: right;\n",
       "    }\n",
       "</style>\n",
       "<table border=\"1\" class=\"dataframe\">\n",
       "  <thead>\n",
       "    <tr style=\"text-align: right;\">\n",
       "      <th></th>\n",
       "      <th>Date</th>\n",
       "      <th>Temperature</th>\n",
       "      <th>Anomaly</th>\n",
       "    </tr>\n",
       "  </thead>\n",
       "  <tbody>\n",
       "    <tr>\n",
       "      <th>0</th>\n",
       "      <td>189501</td>\n",
       "      <td>34.2</td>\n",
       "      <td>-3.2</td>\n",
       "    </tr>\n",
       "    <tr>\n",
       "      <th>1</th>\n",
       "      <td>189601</td>\n",
       "      <td>34.7</td>\n",
       "      <td>-2.7</td>\n",
       "    </tr>\n",
       "    <tr>\n",
       "      <th>2</th>\n",
       "      <td>189701</td>\n",
       "      <td>35.5</td>\n",
       "      <td>-1.9</td>\n",
       "    </tr>\n",
       "    <tr>\n",
       "      <th>3</th>\n",
       "      <td>189801</td>\n",
       "      <td>39.6</td>\n",
       "      <td>2.2</td>\n",
       "    </tr>\n",
       "    <tr>\n",
       "      <th>4</th>\n",
       "      <td>189901</td>\n",
       "      <td>36.4</td>\n",
       "      <td>-1.0</td>\n",
       "    </tr>\n",
       "  </tbody>\n",
       "</table>\n",
       "</div>"
      ],
      "text/plain": [
       "     Date  Temperature  Anomaly\n",
       "0  189501         34.2     -3.2\n",
       "1  189601         34.7     -2.7\n",
       "2  189701         35.5     -1.9\n",
       "3  189801         39.6      2.2\n",
       "4  189901         36.4     -1.0"
      ]
     },
     "metadata": {},
     "output_type": "display_data"
    },
    {
     "data": {
      "text/html": [
       "<div>\n",
       "<style scoped>\n",
       "    .dataframe tbody tr th:only-of-type {\n",
       "        vertical-align: middle;\n",
       "    }\n",
       "\n",
       "    .dataframe tbody tr th {\n",
       "        vertical-align: top;\n",
       "    }\n",
       "\n",
       "    .dataframe thead th {\n",
       "        text-align: right;\n",
       "    }\n",
       "</style>\n",
       "<table border=\"1\" class=\"dataframe\">\n",
       "  <thead>\n",
       "    <tr style=\"text-align: right;\">\n",
       "      <th></th>\n",
       "      <th>Date</th>\n",
       "      <th>Temperature</th>\n",
       "      <th>Anomaly</th>\n",
       "    </tr>\n",
       "  </thead>\n",
       "  <tbody>\n",
       "    <tr>\n",
       "      <th>119</th>\n",
       "      <td>201401</td>\n",
       "      <td>35.5</td>\n",
       "      <td>-1.9</td>\n",
       "    </tr>\n",
       "    <tr>\n",
       "      <th>120</th>\n",
       "      <td>201501</td>\n",
       "      <td>36.1</td>\n",
       "      <td>-1.3</td>\n",
       "    </tr>\n",
       "    <tr>\n",
       "      <th>121</th>\n",
       "      <td>201601</td>\n",
       "      <td>40.8</td>\n",
       "      <td>3.4</td>\n",
       "    </tr>\n",
       "    <tr>\n",
       "      <th>122</th>\n",
       "      <td>201701</td>\n",
       "      <td>42.8</td>\n",
       "      <td>5.4</td>\n",
       "    </tr>\n",
       "    <tr>\n",
       "      <th>123</th>\n",
       "      <td>201801</td>\n",
       "      <td>38.7</td>\n",
       "      <td>1.3</td>\n",
       "    </tr>\n",
       "  </tbody>\n",
       "</table>\n",
       "</div>"
      ],
      "text/plain": [
       "       Date  Temperature  Anomaly\n",
       "119  201401         35.5     -1.9\n",
       "120  201501         36.1     -1.3\n",
       "121  201601         40.8      3.4\n",
       "122  201701         42.8      5.4\n",
       "123  201801         38.7      1.3"
      ]
     },
     "metadata": {},
     "output_type": "display_data"
    },
    {
     "name": "stdout",
     "output_type": "stream",
     "text": [
      "Date             int64\n",
      "Temperature    float64\n",
      "Anomaly        float64\n",
      "dtype: object\n"
     ]
    }
   ],
   "source": [
    "# --- Section 2 - Data Inspection\n",
    "display(nyc_df.head())\n",
    "display(nyc_df.tail())\n",
    "print(nyc_df.dtypes)"
   ]
  },
  {
   "cell_type": "markdown",
   "id": "48398191",
   "metadata": {},
   "source": [
    "The Date column is numeric (in YYYYMM format), while Temperature and Anomaly are floats.\n",
    "We’ll need to extract the year from the Date column for our regression model."
   ]
  },
  {
   "cell_type": "markdown",
   "id": "53df9c59",
   "metadata": {},
   "source": [
    "### Section 3 - Data Cleaning\n",
    "To prepare the data:\n",
    "Extract the year as an integer.\n",
    "Ensure the temperature column is numeric.\n",
    "Drop any missing values."
   ]
  },
  {
   "cell_type": "code",
   "execution_count": 117,
   "id": "4b18fa4e",
   "metadata": {},
   "outputs": [],
   "source": [
    "# --- Section 3 - Data Cleaning\n",
    "# Date is YYYYMM; extract year as integer\n",
    "nyc_df['Year'] = (nyc_df['Date'] // 100).astype(int)\n",
    "nyc_df['Temperature'] = pd.to_numeric(nyc_df['Temperature'], errors='coerce')\n",
    "nyc_df = nyc_df.dropna(subset=['Year','Temperature'])"
   ]
  },
  {
   "cell_type": "markdown",
   "id": "2d328ad1",
   "metadata": {},
   "source": [
    "The dataset is now clean and ready for analysis, with each record representing a year and its average January high temperature."
   ]
  },
  {
   "cell_type": "markdown",
   "id": "c5200e3d",
   "metadata": {},
   "source": [
    "### Section 4 - Descriptive Statistics\n",
    "Before building our model, let’s explore the dataset with summary statistics."
   ]
  },
  {
   "cell_type": "code",
   "execution_count": 118,
   "id": "23ebb4b3",
   "metadata": {},
   "outputs": [
    {
     "data": {
      "text/html": [
       "<div>\n",
       "<style scoped>\n",
       "    .dataframe tbody tr th:only-of-type {\n",
       "        vertical-align: middle;\n",
       "    }\n",
       "\n",
       "    .dataframe tbody tr th {\n",
       "        vertical-align: top;\n",
       "    }\n",
       "\n",
       "    .dataframe thead th {\n",
       "        text-align: right;\n",
       "    }\n",
       "</style>\n",
       "<table border=\"1\" class=\"dataframe\">\n",
       "  <thead>\n",
       "    <tr style=\"text-align: right;\">\n",
       "      <th></th>\n",
       "      <th>Date</th>\n",
       "      <th>Temperature</th>\n",
       "      <th>Anomaly</th>\n",
       "      <th>Year</th>\n",
       "    </tr>\n",
       "  </thead>\n",
       "  <tbody>\n",
       "    <tr>\n",
       "      <th>count</th>\n",
       "      <td>124.00</td>\n",
       "      <td>124.00</td>\n",
       "      <td>124.00</td>\n",
       "      <td>124.00</td>\n",
       "    </tr>\n",
       "    <tr>\n",
       "      <th>mean</th>\n",
       "      <td>195651.00</td>\n",
       "      <td>37.60</td>\n",
       "      <td>0.20</td>\n",
       "      <td>1956.50</td>\n",
       "    </tr>\n",
       "    <tr>\n",
       "      <th>std</th>\n",
       "      <td>3593.98</td>\n",
       "      <td>4.54</td>\n",
       "      <td>4.54</td>\n",
       "      <td>35.94</td>\n",
       "    </tr>\n",
       "    <tr>\n",
       "      <th>min</th>\n",
       "      <td>189501.00</td>\n",
       "      <td>26.10</td>\n",
       "      <td>-11.30</td>\n",
       "      <td>1895.00</td>\n",
       "    </tr>\n",
       "    <tr>\n",
       "      <th>25%</th>\n",
       "      <td>192576.00</td>\n",
       "      <td>34.58</td>\n",
       "      <td>-2.82</td>\n",
       "      <td>1925.75</td>\n",
       "    </tr>\n",
       "    <tr>\n",
       "      <th>50%</th>\n",
       "      <td>195651.00</td>\n",
       "      <td>37.60</td>\n",
       "      <td>0.20</td>\n",
       "      <td>1956.50</td>\n",
       "    </tr>\n",
       "    <tr>\n",
       "      <th>75%</th>\n",
       "      <td>198726.00</td>\n",
       "      <td>40.60</td>\n",
       "      <td>3.20</td>\n",
       "      <td>1987.25</td>\n",
       "    </tr>\n",
       "    <tr>\n",
       "      <th>max</th>\n",
       "      <td>201801.00</td>\n",
       "      <td>47.60</td>\n",
       "      <td>10.20</td>\n",
       "      <td>2018.00</td>\n",
       "    </tr>\n",
       "  </tbody>\n",
       "</table>\n",
       "</div>"
      ],
      "text/plain": [
       "            Date  Temperature  Anomaly     Year\n",
       "count     124.00       124.00   124.00   124.00\n",
       "mean   195651.00        37.60     0.20  1956.50\n",
       "std      3593.98         4.54     4.54    35.94\n",
       "min    189501.00        26.10   -11.30  1895.00\n",
       "25%    192576.00        34.58    -2.82  1925.75\n",
       "50%    195651.00        37.60     0.20  1956.50\n",
       "75%    198726.00        40.60     3.20  1987.25\n",
       "max    201801.00        47.60    10.20  2018.00"
      ]
     },
     "metadata": {},
     "output_type": "display_data"
    }
   ],
   "source": [
    "# --- Section 4 - Descriptive Statistics\n",
    "display(nyc_df.describe())"
   ]
  },
  {
   "cell_type": "markdown",
   "id": "b5e1547d",
   "metadata": {},
   "source": [
    "We can see temperatures range from about 26°F to 48°F.\n",
    "The dataset spans over 120 years, giving us a strong foundation for observing long-term trends."
   ]
  },
  {
   "cell_type": "markdown",
   "id": "b111d898",
   "metadata": {},
   "source": [
    "### Section 5 - Build the Model\n",
    "Now we’ll use SciPy’s linregress to compute the line of best fit:\n",
    "y=mx+b\n",
    "where:\n",
    "m=slope (change per year)\n",
    "b=y-intercept\n",
    "R^2=strength of the linear relationship"
   ]
  },
  {
   "cell_type": "code",
   "execution_count": 119,
   "id": "32fd8a49",
   "metadata": {},
   "outputs": [
    {
     "name": "stdout",
     "output_type": "stream",
     "text": [
      "SciPy: y = 0.0148x + 8.69  |  R^2 = 0.014\n"
     ]
    }
   ],
   "source": [
    "# --- Section 5 - Build the Model (SciPy)\n",
    "slope, intercept, r, p, std_err = stats.linregress(nyc_df['Year'], nyc_df['Temperature'])\n",
    "print(f\"SciPy: y = {slope:.4f}x + {intercept:.2f}  |  R^2 = {r**2:.3f}\")"
   ]
  },
  {
   "cell_type": "markdown",
   "id": "50872bfb",
   "metadata": {},
   "source": [
    "The slope is approximately 0.0148, meaning NYC’s January average high temperature increases by about 0.015°F per year.\n",
    "The R² = 0.014 indicates a very weak linear relationship — suggesting that while there’s a slight upward trend, year alone does not strongly predict temperature."
   ]
  },
  {
   "cell_type": "markdown",
   "id": "52d71980",
   "metadata": {},
   "source": [
    "### Section 6 - Predict\n",
    "With our model, we can now predict the average NYC January high temperature for 2024."
   ]
  },
  {
   "cell_type": "code",
   "execution_count": 120,
   "id": "0836b55b",
   "metadata": {},
   "outputs": [
    {
     "name": "stdout",
     "output_type": "stream",
     "text": [
      "Predicted Avg Jan Temp for 2024 (SciPy): 38.59°F\n"
     ]
    }
   ],
   "source": [
    "# --- Section 6 - Predict 2024\n",
    "pred_2024_scipy = slope * 2024 + intercept\n",
    "print(f\"Predicted Avg Jan Temp for 2024 (SciPy): {pred_2024_scipy:.2f}°F\")"
   ]
  },
  {
   "cell_type": "markdown",
   "id": "57c019a6",
   "metadata": {},
   "source": [
    "Using this model, the predicted average January temperature in 2024 is 38.59°F.\n",
    "This is a modest increase over the 2018 average of 38.7°F, reflecting a gentle upward trend."
   ]
  },
  {
   "cell_type": "markdown",
   "id": "b61eee35",
   "metadata": {},
   "source": [
    "### Section 7 - Visualizations\n",
    "Let’s visualize the observed data and best-fit line to better understand the model."
   ]
  },
  {
   "cell_type": "code",
   "execution_count": 121,
   "id": "8e5215ac",
   "metadata": {},
   "outputs": [
    {
     "data": {
      "image/png": "[encoded data removed]",
      "text/plain": [
       "<Figure size 800x500 with 1 Axes>"
      ]
     },
     "metadata": {},
     "output_type": "display_data"
    }
   ],
   "source": [
    "# --- Section 7 - Visualizations\n",
    "plt.figure(figsize=(8,5))\n",
    "sns.scatterplot(x=\"Year\", y=\"Temperature\", data=nyc_df, label=\"Observed\")\n",
    "plt.plot(nyc_df['Year'], slope*nyc_df['Year'] + intercept, color='red', label='SciPy Best-Fit')\n",
    "plt.title(\"NYC Avg January Temperature with SciPy Regression Line\")\n",
    "plt.xlabel(\"Year\")\n",
    "plt.ylabel(\"Temperature (°F)\")\n",
    "plt.xlim(nyc_df['Year'].min()-2, 2025)\n",
    "plt.ylim(nyc_df['Temperature'].min()-2, nyc_df['Temperature'].max()+2)\n",
    "plt.legend()\n",
    "plt.show()"
   ]
  },
  {
   "cell_type": "markdown",
   "id": "55c89046",
   "metadata": {},
   "source": [
    "The red line represents our regression model.\n",
    "Although the slope trends upward, the data points vary widely, confirming year-to-year variability and emphasizing the limitations of a simple linear model.\n",
    "\n",
    "Using SciPy, we quickly built a linear regression model that reveals a small upward trend in January temperatures over time.\n",
    "However, the low R² value highlights that other variables—like ocean currents, atmospheric conditions, and weather patterns—likely influence the temperature more strongly than time alone."
   ]
  },
  {
   "cell_type": "markdown",
   "id": "d7c4ee20",
   "metadata": {},
   "source": [
    "# Part 3 - Prediction with scikit-learn Linear Regression\n",
    "\n",
    "### Section 1 - Build the Model\n",
    "Split data into train/test; fit LinearRegression; view `coef_` and `intercept_`."
   ]
  },
  {
   "cell_type": "markdown",
   "id": "51fb92db",
   "metadata": {},
   "source": [
    "To compare, we’ll build the same model using scikit-learn, which is more flexible for multi-feature and train/test workflows."
   ]
  },
  {
   "cell_type": "code",
   "execution_count": 122,
   "id": "84e46e92",
   "metadata": {},
   "outputs": [
    {
     "name": "stdout",
     "output_type": "stream",
     "text": [
      "Shapes: (93, 1) (31, 1) (93,) (31,)\n",
      "intercept_: -0.30779820252658396\n",
      "coef_     : 0.01939167329478278\n"
     ]
    }
   ],
   "source": [
    "from sklearn.model_selection import train_test_split\n",
    "from sklearn.linear_model import LinearRegression\n",
    "\n",
    "# --- Section 1 - Build the Model\n",
    "X = nyc_df[['Year']]\n",
    "y = nyc_df['Temperature']\n",
    "\n",
    "X_train, X_test, y_train, y_test = train_test_split(X, y, random_state=11)\n",
    "print(\"Shapes:\", X_train.shape, X_test.shape, y_train.shape, y_test.shape)\n",
    "\n",
    "lr = LinearRegression()\n",
    "lr.fit(X_train, y_train)\n",
    "print(\"intercept_:\", lr.intercept_)\n",
    "print(\"coef_     :\", lr.coef_[0])"
   ]
  },
  {
   "cell_type": "markdown",
   "id": "3dc0c5f6",
   "metadata": {},
   "source": [
    "After splitting the data into training (93 observations) and testing (31 observations), we fit a Linear Regression model.\n",
    "The fitted model provides:\n",
    "\n",
    "Intercept: -0.31\n",
    "\n",
    "Slope (coefficient): 0.0194\n",
    "\n",
    "This slope means the model predicts an increase of 0.019°F per year — similar to the trend we found using SciPy."
   ]
  },
  {
   "cell_type": "markdown",
   "id": "a2b67937",
   "metadata": {},
   "source": [
    "### Section 2 - Test the Model\n",
    "\n",
    "Next, we test the model’s performance on the unseen test set by calculating the R² score, which tells us how much of the variation in temperature is explained by the year."
   ]
  },
  {
   "cell_type": "code",
   "execution_count": 123,
   "id": "8a29f105",
   "metadata": {},
   "outputs": [
    {
     "name": "stdout",
     "output_type": "stream",
     "text": [
      "Test R^2: -0.033370346388810423\n"
     ]
    }
   ],
   "source": [
    "# --- Section 2 - Test the Model\n",
    "print(\"Test R^2:\", lr.score(X_test, y_test))"
   ]
  },
  {
   "cell_type": "markdown",
   "id": "9f320923",
   "metadata": {},
   "source": [
    "The R² value is very low (close to 0), indicating that year alone does not strongly predict January temperatures.\n",
    "This confirms that while there is a slight upward trend, temperature is influenced by many other variables not captured by a simple linear model."
   ]
  },
  {
   "cell_type": "markdown",
   "id": "16c163fb",
   "metadata": {},
   "source": [
    "### Section 3 - Predict\n",
    "\n",
    "Now, we’ll use the model to make a future prediction: what will the average NYC January high temperature be in 2024?"
   ]
  },
  {
   "cell_type": "code",
   "execution_count": 127,
   "id": "a56ebeeb",
   "metadata": {},
   "outputs": [
    {
     "name": "stdout",
     "output_type": "stream",
     "text": [
      "Predicted Avg Jan Temp for 2024 (scikit-learn): 38.94°F\n"
     ]
    }
   ],
   "source": [
    "# --- Section 3 - Predict 2024\n",
    "future = pd.DataFrame({'Year': [2024]})\n",
    "pred_2024_sklearn = lr.predict(future)[0]\n",
    "print(f\"Predicted Avg Jan Temp for 2024 (scikit-learn): {pred_2024_sklearn:.2f}°F\")"
   ]
  },
  {
   "cell_type": "markdown",
   "id": "0952d6dd",
   "metadata": {},
   "source": [
    "The scikit-learn model predicts the 2024 average January temperature to be 38.94°F, which is almost identical to our SciPy prediction (38.59°F).\n",
    "\n",
    "The similarity in results between both models confirms that linear regression is consistent regardless of implementation."
   ]
  },
  {
   "cell_type": "markdown",
   "id": "e3a758a8",
   "metadata": {},
   "source": [
    "### Section 4 - Visualizations\n",
    "\n",
    "Finally, we visualize the scikit-learn regression line alongside the observed data."
   ]
  },
  {
   "cell_type": "code",
   "execution_count": 125,
   "id": "4312cf31",
   "metadata": {},
   "outputs": [
    {
     "data": {
      "image/png": "[encoded data removed]",
      "text/plain": [
       "<Figure size 800x500 with 1 Axes>"
      ]
     },
     "metadata": {},
     "output_type": "display_data"
    },
    {
     "name": "stdout",
     "output_type": "stream",
     "text": [
      "SciPy 2024:   38.59°F\n",
      "sklearn 2024: 38.94°F\n"
     ]
    }
   ],
   "source": [
    "# --- Section 4 - Visualizations\n",
    "plt.figure(figsize=(8,5))\n",
    "sns.scatterplot(x=\"Year\", y=\"Temperature\", data=nyc_df, label=\"Observed\")\n",
    "plt.plot(nyc_df['Year'], lr.predict(nyc_df[['Year']]), label='sklearn Best-Fit')\n",
    "plt.title(\"NYC Avg January Temperature with scikit-learn Regression Line\")\n",
    "plt.xlabel(\"Year\")\n",
    "plt.ylabel(\"Temperature (°F)\")\n",
    "plt.xlim(nyc_df['Year'].min()-2, 2025)\n",
    "plt.ylim(nyc_df['Temperature'].min()-2, nyc_df['Temperature'].max()+2)\n",
    "plt.legend()\n",
    "plt.show()\n",
    "\n",
    "# Quick comparison\n",
    "print(f\"SciPy 2024:   {pred_2024_scipy:.2f}°F\")\n",
    "print(f\"sklearn 2024: {pred_2024_sklearn:.2f}°F\")"
   ]
  },
  {
   "cell_type": "markdown",
   "id": "6cb1d534",
   "metadata": {},
   "source": [
    "The line of best fit trends slightly upward, reflecting the gradual increase in average January temperatures over time.\n",
    "However, we can clearly see that actual data points vary widely from year to year, illustrating the limitations of a simple linear model for complex systems like weather."
   ]
  },
  {
   "cell_type": "markdown",
   "id": "9243f21a",
   "metadata": {},
   "source": [
    "# Part 4 - Insights and Comparison\n",
    "\n",
    "- **Model agreement:** The SciPy and scikit-learn predictions for 2024 are very close, as expected for a simple linear fit on the same data.\n",
    "- **Interpretation of m and b:** The slope (*m*) represents annual change in average Jan high (°F/year). The intercept (*b*) is the model’s predicted temperature when Year = 0 (not meaningful on its own—useful mostly for the equation).\n",
    "- **Goodness of fit:** R² shows how much variance the linear model explains; here it’s modest, indicating substantial year-to-year variability not captured by a straight line.\n",
    "- **Assumptions & limits:** A single linear trend ignores nonlinearity, autocorrelation, and other climate drivers; predictions are illustrative only.\n",
    "- **When to prefer which API:**  \n",
    "  - **SciPy** for quick one-variable fits and statistics.  \n",
    "  - **scikit-learn** for pipelines, scaling, multiple features, and proper train/test evaluation."
   ]
  },
  {
   "cell_type": "markdown",
   "id": "922aeaba",
   "metadata": {},
   "source": [
    "# Part 5 - California Housing\n",
    "\n",
    "In this final section, we’ll apply our **machine learning skills** to a **real-world dataset**: the **California Housing Dataset**, a classic benchmark in regression.\n",
    "\n",
    "**What’s inside the data?**\n",
    "- 🧭 **Longitude**, **Latitude** — where each district is located  \n",
    "- 🏠 **AveRooms**, **AveBedrms**, **AveOccup** — housing characteristics  \n",
    "- 👥 **Population** — number of residents  \n",
    "- 💰 **MedInc** — median income per household  \n",
    "- 🧓 **HouseAge** — average age of homes  \n",
    "- 🎯 **Target:** **MedHouseVal** (median house value)\n",
    "\n",
    "**Our plan**\n",
    "1. **Load & explore** the dataset  \n",
    "2. **Split** into train and test sets  \n",
    "3. **Train** a `LinearRegression` model  \n",
    "4. **Evaluate** with **R²** and **MAE**  \n",
    "5. **Interpret** coefficients to see which features matter most  \n",
    "6. **Visualize** results with clear, interpretable charts\n",
    "\n",
    "Why this matters: Unlike Parts 2–3 (single feature → Year), this section shows how **multi-feature regression** captures richer relationships. It’s also a chance to practice **data storytelling**—turning raw outputs into insights a stakeholder can act on.\n"
   ]
  },
  {
   "cell_type": "code",
   "execution_count": 126,
   "id": "f06048e3",
   "metadata": {},
   "outputs": [
    {
     "name": "stdout",
     "output_type": "stream",
     "text": [
      "Test R^2: 0.6008983115964297\n",
      "MAE: 0.5378927923648122\n"
     ]
    },
    {
     "data": {
      "image/png": "[encoded data removed]",
      "text/plain": [
       "<Figure size 1000x400 with 1 Axes>"
      ]
     },
     "metadata": {},
     "output_type": "display_data"
    }
   ],
   "source": [
    "# Optional Part 5 - California Housing (15.5)\n",
    "from sklearn.datasets import fetch_california_housing\n",
    "from sklearn.model_selection import train_test_split\n",
    "from sklearn.linear_model import LinearRegression\n",
    "from sklearn.metrics import r2_score, mean_absolute_error\n",
    "\n",
    "data = fetch_california_housing(as_frame=True)\n",
    "df = data.frame\n",
    "X = df.drop(columns=['MedHouseVal'])\n",
    "y = df['MedHouseVal']\n",
    "\n",
    "X_train, X_test, y_train, y_test = train_test_split(X, y, random_state=11)\n",
    "model = LinearRegression().fit(X_train, y_train)\n",
    "y_pred = model.predict(X_test)\n",
    "print(\"Test R^2:\", r2_score(y_test, y_pred))\n",
    "print(\"MAE:\", mean_absolute_error(y_test, y_pred))\n",
    "pd.Series(model.coef_, index=X.columns).sort_values().plot(kind='bar', figsize=(10,4))\n",
    "plt.title(\"LinearRegression Coefficients (California Housing)\")\n",
    "plt.show()"
   ]
  },
  {
   "cell_type": "markdown",
   "id": "939ad99a",
   "metadata": {},
   "source": [
    "### 🏁 Part 5 – Conclusion: Insights from the California Housing Model\n",
    "\n",
    "This optional analysis expanded our exploration of linear regression to a **multi-feature dataset** using the **California Housing** data. Unlike the NYC temperature dataset, which involved a single predictor (Year), this dataset included **multiple predictors** such as longitude, latitude, average rooms, population, and median income.\n",
    "\n",
    "The **R² value of 0.60** indicates that the model explains about **60% of the variance** in median house value — a reasonable level of predictive power for a simple linear regression, though not perfect. The **Mean Absolute Error (MAE) of ~0.54** shows the average deviation between predicted and actual values, which is acceptable but highlights room for improvement.\n",
    "\n",
    "#### Key Takeaways:\n",
    "- **Most Influential Features:**  \n",
    "  - **Median Income (MedInc)** had a strong positive relationship with house value — higher income areas tend to have higher home prices.  \n",
    "  - **Longitude and Latitude** had negative coefficients, reflecting geographical effects (e.g. inland vs coastal regions).  \n",
    "- **Model Limitations:**  \n",
    "  Linear regression assumes a straight-line relationship and may not fully capture complex interactions or non-linear trends present in real housing markets.\n",
    "\n",
    "#### Reflection:\n",
    "This exercise demonstrated how **multi-feature regression** can uncover relationships between several variables and a target outcome. While the model is interpretable and computationally efficient, more advanced techniques — such as **polynomial regression**, **decision trees**, or **ensemble methods** — could improve accuracy and capture more complex dynamics.\n",
    "\n",
    "By comparing this with the NYC temperature model, we see the power and limits of linear regression across contexts:\n",
    "- Simple regression (NYC data) is useful for clear, one-dimensional trends.\n",
    "- Multi-feature regression (California data) helps analyze more complex systems with multiple contributing factors.\n",
    "\n",
    "📈 **Next Steps:** Experiment with feature scaling, regularization (Ridge/Lasso), or non-linear models to see how predictive performance can be enhanced."
   ]
  },
  {
   "cell_type": "markdown",
   "id": "015e55ca",
   "metadata": {},
   "source": [
    "## 📊 Project 7 Reflection\n",
    "\n",
    "This project provided hands-on experience with **predictive machine learning** using **linear regression** — one of the foundational tools for modeling relationships between variables. By working with both **SciPy** and **scikit-learn**, I learned how different approaches can produce similar outcomes while offering unique strengths.\n",
    "\n",
    "### 🔹 Key Insights\n",
    "- **SciPy** offers a simple, transparent approach for one-variable regression. It directly provides key statistics — **slope**, **intercept**, **R²**, and **p-values** — which help interpret relationships clearly.\n",
    "- **scikit-learn** provides a more scalable and flexible framework. It allows **train/test splits**, supports **multi-feature models**, and can easily extend into more complex pipelines.\n",
    "- Both models produced nearly **identical predictions**, validating the consistency of linear regression methods across libraries.\n",
    "- The **R² value** (~moderate correlation) suggests a **gradual upward trend** in NYC’s January high temperatures over time, reflecting the broader warming pattern observed globally.\n",
    "\n",
    "### ⚠️ Limitations\n",
    "- **Linearity**: The model assumes a straight-line relationship and cannot capture cyclical or irregular climate patterns.\n",
    "- **Single-variable focus**: The NYC model only used **Year** as a predictor, ignoring other influential factors like ocean currents, urbanization, or greenhouse gas levels.\n",
    "- **Predictive uncertainty**: Extrapolating beyond the observed data range (e.g., predicting 2024) introduces uncertainty, especially when long-term trends may shift.\n",
    "\n",
    "### 💡 Takeaways\n",
    "This project reinforced the importance of:\n",
    "- Understanding model **assumptions and limitations**\n",
    "- Using **visualization** to reveal trends and communicate insights\n",
    "- Comparing tools to find the best fit for the data and research goals\n",
    "\n",
    "---\n",
    "\n",
    "## 🧭 Summary\n",
    "\n",
    "In **Project 7**, I built, tested, and compared linear regression models to **predict average January temperatures in NYC** and explored a **multi-feature housing dataset** as an optional extension.\n",
    "\n",
    "Through this process, I:\n",
    "- Practiced **data acquisition, cleaning, and inspection** using **pandas**\n",
    "- Applied **simple linear regression** with **SciPy** and **scikit-learn**\n",
    "- Evaluated **model performance** using **R²** and visualizations\n",
    "- Reflected on the **interpretability** and **applicability** of linear models in real-world contexts\n",
    "\n",
    "This project demonstrated how even simple models can yield valuable insights, provided we understand their boundaries. As we move toward more advanced methods, these foundational skills form the backbone of thoughtful, evidence-based data storytelling."
   ]
  }
 ],
 "metadata": {
  "kernelspec": {
   "display_name": ".venv (3.13.7)",
   "language": "python",
   "name": "python3"
  },
  "language_info": {
   "codemirror_mode": {
    "name": "ipython",
    "version": 3
   },
   "file_extension": ".py",
   "mimetype": "text/x-python",
   "name": "python",
   "nbconvert_exporter": "python",
   "pygments_lexer": "ipython3",
   "version": "3.13.7"
  }
 },
 "nbformat": 4,
 "nbformat_minor": 5
}
