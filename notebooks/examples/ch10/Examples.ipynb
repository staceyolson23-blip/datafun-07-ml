{
 "cells": [
  {
   "cell_type": "code",
   "execution_count": 8,
   "id": "80e7dae4-8f9d-4b0c-861a-5a5c47b18f11",
   "metadata": {},
   "outputs": [
    {
     "name": "stdout",
     "output_type": "stream",
     "text": [
      "Complex test: (4 + 6i)\n",
      "Single card: Ace of Spades\n",
      "Deck created with 52 cards\n",
      "First 5 cards: [Card(face='Ace', suit='Hearts'), Card(face='2', suit='Hearts'), Card(face='3', suit='Hearts'), Card(face='4', suit='Hearts'), Card(face='5', suit='Hearts')]\n"
     ]
    }
   ],
   "source": [
    "from complexnumber import Complex\n",
    "from card import Card\n",
    "from deck import DeckOfCards\n",
    "\n",
    "# Test Complex\n",
    "c1 = Complex(3, 4)\n",
    "c2 = Complex(1, 2)\n",
    "print(\"Complex test:\", c1 + c2)\n",
    "\n",
    "# Test Card & DeckOfCards\n",
    "card = Card('Ace', 'Spades')\n",
    "print(\"Single card:\", card)\n",
    "\n",
    "deck = DeckOfCards()\n",
    "print(\"Deck created with\", len(deck._deck), \"cards\")\n",
    "print(\"First 5 cards:\", deck._deck[:5])"
   ]
  },
  {
   "cell_type": "code",
   "execution_count": null,
   "id": "19d889d2-c232-4a46-b624-ec16c48ea694",
   "metadata": {},
   "outputs": [],
   "source": []
  }
 ],
 "metadata": {
  "kernelspec": {
   "display_name": "Python 3 (ipykernel)",
   "language": "python",
   "name": "python3"
  },
  "language_info": {
   "codemirror_mode": {
    "name": "ipython",
    "version": 3
   },
   "file_extension": ".py",
   "mimetype": "text/x-python",
   "name": "python",
   "nbconvert_exporter": "python",
   "pygments_lexer": "ipython3",
   "version": "3.13.7"
  }
 },
 "nbformat": 4,
 "nbformat_minor": 5
}
